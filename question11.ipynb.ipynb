{
 "cells": [
  {
   "cell_type": "markdown",
   "id": "2c0775ca-2c04-4574-a0c4-cf769a0eadbb",
   "metadata": {},
   "source": [
    "# Ewa Jakubowska\n",
    "Notebook for assignment 7"
   ]
  },
  {
   "cell_type": "code",
   "execution_count": 1,
   "id": "8d5d700a-0e4a-46f1-85ef-e26436b0290b",
   "metadata": {
    "tags": []
   },
   "outputs": [
    {
     "name": "stdout",
     "output_type": "stream",
     "text": [
      "5.0\n"
     ]
    }
   ],
   "source": [
    "def compute_mean(lst):\n",
    "    mean = sum(lst) / len(lst)\n",
    "    print(mean)\n",
    "\n",
    "compute_mean([2, 4, 6, 8])"
   ]
  },
  {
   "cell_type": "markdown",
   "id": "8620cfe3-3897-4009-845b-eb66feafebb0",
   "metadata": {},
   "source": [
    "$$\n",
    "\\bar{x} = \\frac{x_1 + x_2 + \\ldots + x_n}{n} = \\frac{1}{n} \\sum_{i=1}^{n} x_i\n",
    "$$"
   ]
  },
  {
   "cell_type": "code",
   "execution_count": null,
   "id": "5177dd18-9ca4-4f95-8af0-e16f91699768",
   "metadata": {},
   "outputs": [],
   "source": []
  }
 ],
 "metadata": {
  "kernelspec": {
   "display_name": "Python 3 (ipykernel)",
   "language": "python",
   "name": "python3"
  },
  "language_info": {
   "codemirror_mode": {
    "name": "ipython",
    "version": 3
   },
   "file_extension": ".py",
   "mimetype": "text/x-python",
   "name": "python",
   "nbconvert_exporter": "python",
   "pygments_lexer": "ipython3",
   "version": "3.11.5"
  }
 },
 "nbformat": 4,
 "nbformat_minor": 5
}
